{
 "cells": [
  {
   "cell_type": "code",
   "execution_count": 1,
   "metadata": {},
   "outputs": [],
   "source": [
    "import numpy as np\n",
    "import scipy.io\n",
    "import matplotlib.pyplot as plt\n",
    "from matplotlib import colors"
   ]
  },
  {
   "cell_type": "markdown",
   "metadata": {},
   "source": [
    "## 3b"
   ]
  },
  {
   "cell_type": "code",
   "execution_count": 46,
   "metadata": {},
   "outputs": [
    {
     "name": "stdout",
     "output_type": "stream",
     "text": [
      "For the residual to be orthogonal to X's columns, the following must be equal to 0\n",
      "(Note, float rounding in numpy may make this close)\n",
      "Dot Product of column 1 of X and residual vector: -6.360023618867672e-12\n",
      "Dot Product of column 2 of X and residual vector: -3.403721748895805e-12\n",
      "Dot Product of column 3 of X and residual vector: -4.841238521180458e-12\n",
      "Dot Product of column 4 of X and residual vector: -1.4932499681208355e-12\n"
     ]
    }
   ],
   "source": [
    "# STARTER CODE\n",
    "# load data, make sure ‘fisheriris.mat‘ is in your working directory\n",
    "data = scipy.io.loadmat(\"fisheriris.mat\")\n",
    "X = data[\"meas\"]\n",
    "y_text = data[\"species\"]\n",
    "############################\n",
    "# YOUR CODE BELOW\n",
    "# Process and assign numerical values to\n",
    "# ‘y‘ according to your (a), make sure ‘y‘ is a 1d numpy array.\n",
    "flower_dict = {np.unique(y_text)[i][0]:i-1 for i in range(0,3)}\n",
    "\n",
    "# My Response: Set first flower type to -1, second to 0, third to 1\n",
    "y_num = np.array([flower_dict[y_text[i][0][0]] for i in range(0, y_text.shape[0])])\n",
    "\n",
    "# Compute the least squares weights\n",
    "def get_weights(X, labels):\n",
    "    XtX_inv = np.linalg.inv(np.matmul(X.T, X)) # (X^T X)^-1\n",
    "    XtX_inv_Xt = np.matmul(XtX_inv, X.T) # (X^T X)^-1 X^T\n",
    "    weights = np.dot(XtX_inv_Xt, labels) # (X^T X)^-1 X^T y\n",
    "    return weights\n",
    "\n",
    "w = get_weights(X, y_num)\n",
    "\n",
    "# Compute the residuals\n",
    "y_hat_real = X@w\n",
    "r = y_num - y_hat_real\n",
    "\n",
    "\n",
    "# Make a plot (hw said code output works fine)\n",
    "print(\"For the residual to be orthogonal to X's columns, the following must be equal to 0\")\n",
    "print(\"(Note, float rounding in numpy may make this close)\")\n",
    "for i in range(0, X.shape[1]):\n",
    "    print(f\"Dot Product of column {i+1} of X and residual vector: {np.dot(X[:,i], r)}\")\n"
   ]
  },
  {
   "cell_type": "markdown",
   "metadata": {},
   "source": [
    "## 3c"
   ]
  },
  {
   "cell_type": "code",
   "execution_count": 95,
   "metadata": {},
   "outputs": [
    {
     "name": "stdout",
     "output_type": "stream",
     "text": [
      "Average Test Error for 10000 iterations: 0.032473333333333326\n"
     ]
    }
   ],
   "source": [
    "data = scipy.io.loadmat(\"fisheriris.mat\")\n",
    "X = data[\"meas\"]\n",
    "y_text = data[\"species\"]\n",
    "############################\n",
    "# YOUR CODE BELOW\n",
    "# Process and assign numerical values to\n",
    "# ‘y‘ according to your (a), make sure ‘y‘ is a 1d numpy array.\n",
    "flower_dict = {np.unique(y_text)[i][0]:i-1 for i in range(0,3)}\n",
    "\n",
    "# My Response: Set first flower type to -1, second to 0, third to 1\n",
    "y = np.array([flower_dict[y_text[i][0][0]] for i in range(0, y_text.shape[0])])\n",
    "\n",
    "# number of random trials\n",
    "N = 10_000\n",
    "# array to store errors\n",
    "errs = np.zeros(N)\n",
    "# size of training set\n",
    "num_train = 40\n",
    "for i in np.arange(N):\n",
    "# initialize 0-length arrays for the train and holdout indices. These\n",
    "# arrays will be filled in the inner loop.\n",
    "    idx_train = np.zeros(0, dtype=np.intp)\n",
    "    idx_holdout = np.zeros(0, dtype=np.intp)\n",
    "\n",
    "    # There are 3 label types and 50 samples of each type\n",
    "    for label_type in range(3):\n",
    "        # Choose a random ordering of the 50 samples\n",
    "        r = np.random.permutation(50)\n",
    "        # Add the first num_train indices of the random ordering to\n",
    "        # the idx_train array\n",
    "        idx_train = np.concatenate((idx_train, 50 * label_type + r[:num_train]))\n",
    "        # Add the rest of the indices to the idx_holdout array\n",
    "        idx_holdout = np.concatenate((idx_holdout, 50 * label_type + r[num_train:]))\n",
    "\n",
    "    # divide data and labels into the train and holdout sets\n",
    "    Xt = X[idx_train]\n",
    "    yt = y[idx_train]\n",
    "    Xh = X[idx_holdout]\n",
    "    yh = y[idx_holdout]\n",
    "    ########################\n",
    "    # YOUR CODE BELOW\n",
    "    # Solve for the LS weights\n",
    "    w = get_weights(Xt, yt)\n",
    "\n",
    "    # Make predictions using the LS weights\n",
    "    y_hat_holdout_real = Xh@w\n",
    "\n",
    "    # Turn the real-valued predictions into class labels\n",
    "    def get_pred_label(x): #based on my 3a answer\n",
    "        if x <= -0.5:\n",
    "            return -1\n",
    "        elif x < 0.5:\n",
    "            return 0\n",
    "        else:\n",
    "            return 1\n",
    "        \n",
    "    y_hat_holdout_labels = np.array([get_pred_label(y_hat_holdout_real[i]) for i in range(0, yh.shape[0])])\n",
    "\n",
    "    # Compute the errors\n",
    "    errs[i] = np.where(y_hat_holdout_labels == yh, 0, 1).sum()\n",
    "\n",
    "test_errs = errs / 30\n",
    "\n",
    "print(f\"Average Test Error for {N} iterations: {test_errs.mean()}\")\n"
   ]
  },
  {
   "cell_type": "markdown",
   "metadata": {},
   "source": [
    "## 3d"
   ]
  },
  {
   "cell_type": "code",
   "execution_count": 96,
   "metadata": {},
   "outputs": [
    {
     "data": {
      "image/png": "[encoded data removed]",
      "text/plain": [
       "<Figure size 432x288 with 1 Axes>"
      ]
     },
     "metadata": {
      "needs_background": "light"
     },
     "output_type": "display_data"
    }
   ],
   "source": [
    "data = scipy.io.loadmat(\"fisheriris.mat\")\n",
    "X = data[\"meas\"]\n",
    "y_text = data[\"species\"]\n",
    "############################\n",
    "# YOUR CODE BELOW\n",
    "# Process and assign numerical values to\n",
    "# ‘y‘ according to your (a), make sure ‘y‘ is a 1d numpy array.\n",
    "flower_dict = {np.unique(y_text)[i][0]:i-1 for i in range(0,3)}\n",
    "\n",
    "# My Response: Set first flower type to -1, second to 0, third to 1\n",
    "y = np.array([flower_dict[y_text[i][0][0]] for i in range(0, y_text.shape[0])])\n",
    "############################\n",
    "# YOUR CODE BELOW\n",
    "# Process and assign numerical values to\n",
    "# ‘y‘ according to your (a), make sure ‘y‘ is a 1d numpy array.\n",
    "# If dimensions are mismatching, you may find ‘y = y.flatten()‘ useful.\n",
    "# number of random trials\n",
    "N = 1_000\n",
    "# Min / Max size of the training set\n",
    "min_num_train = 4\n",
    "max_num_train = 40\n",
    "# Arrays to store error rates\n",
    "train_errs = np.zeros((max_num_train-min_num_train, N))\n",
    "test_errs = np.zeros((max_num_train-min_num_train, N))\n",
    "n_train_vals = np.arange(min_num_train, max_num_train)\n",
    "for j, n_train in enumerate(n_train_vals):\n",
    "    for i in np.arange(N):\n",
    "        # initialize 0-length arrays for the train and holdout indices.\n",
    "        # These arrays will be filled in the inner loop.\n",
    "        idx_train = np.zeros(0, dtype=np.intp)\n",
    "        idx_holdout = np.zeros(0, dtype=np.intp)\n",
    "        # There are 3 label types and 50 samples of each type\n",
    "        for label_type in range(3):\n",
    "            # Choose a random ordering of the 50 samples\n",
    "            r = np.random.permutation(50)\n",
    "            # Add the first num_train indices of the random ordering to\n",
    "            # the idx_train array\n",
    "            idx_train = np.concatenate((idx_train, 50 * label_type + r[:n_train]))\n",
    "            # Add the rest of the indices to the idx_holdout array\n",
    "            idx_holdout = np.concatenate((idx_holdout, 50 * label_type + r[n_train:]))\n",
    "\n",
    "        # divide data and labels into the train and holdout sets\n",
    "        Xt = X[idx_train]\n",
    "        yt = y[idx_train]\n",
    "        Xh = X[idx_holdout]\n",
    "        yh = y[idx_holdout]\n",
    "        ########################\n",
    "        # YOUR CODE BELOW\n",
    "        w = get_weights(Xt, yt)\n",
    "\n",
    "        y_hat_training_real = Xt@w\n",
    "        y_hat_training_labels = np.array([get_pred_label(y_hat_training_real[i]) for i in range(0, yt.shape[0])])\n",
    "        train_errs[j,i] = np.where(y_hat_training_labels == yt, 0, 1).sum() / (yt.shape[0]*3)\n",
    "\n",
    "\n",
    "        y_hat_holdout_real = Xh@w\n",
    "        y_hat_holdout_labels = np.array([get_pred_label(y_hat_holdout_real[i]) for i in range(0, yh.shape[0])])\n",
    "        test_errs[j,i] = np.where(y_hat_holdout_labels == yh, 0, 1).sum() / (yh.shape[0]*3)\n",
    "\n",
    "###################\n",
    "# YOUR CODE BELOW\n",
    "# Make a plot of the train and test errors as a function of\n",
    "# training set size\n",
    "\n",
    "\n",
    "plt.figure(1)\n",
    "plt.plot(n_train_vals, train_errs.mean(axis=1), c=\"red\")\n",
    "plt.plot(n_train_vals, test_errs.mean(axis=1), c=\"blue\")\n",
    "plt.xlabel('Training Size')\n",
    "plt.ylabel('Average Error Rate')\n",
    "plt.title('Training (Red) and Testing (Blue) Avg Error as func of training size')\n",
    "plt.show()\n"
   ]
  },
  {
   "cell_type": "code",
   "execution_count": 97,
   "metadata": {},
   "outputs": [
    {
     "name": "stdout",
     "output_type": "stream",
     "text": [
      "Average Test Error for only lengths for 10000 iterations: 0.05654\n"
     ]
    }
   ],
   "source": [
    "data = scipy.io.loadmat(\"fisheriris.mat\")\n",
    "X = data[\"meas\"]\n",
    "y_text = data[\"species\"]\n",
    "\n",
    "flower_dict = {np.unique(y_text)[i][0]:i-1 for i in range(0,3)}\n",
    "y = np.array([flower_dict[y_text[i][0][0]] for i in range(0, y_text.shape[0])])\n",
    "\n",
    "N = 10_000\n",
    "errs = np.zeros(N)\n",
    "num_train = 40\n",
    "\n",
    "X_lengths = X[:,[0, 2]]\n",
    "\n",
    "for i in np.arange(N):\n",
    "# initialize 0-length arrays for the train and holdout indices. These\n",
    "# arrays will be filled in the inner loop.\n",
    "    idx_train = np.zeros(0, dtype=np.intp)\n",
    "    idx_holdout = np.zeros(0, dtype=np.intp)\n",
    "\n",
    "    for label_type in range(3):\n",
    "        # Choose a random ordering of the 50 samples\n",
    "        r = np.random.permutation(50)\n",
    "        # Add the first num_train indices of the random ordering to\n",
    "        # the idx_train array\n",
    "        idx_train = np.concatenate((idx_train, 50 * label_type + r[:num_train]))\n",
    "        # Add the rest of the indices to the idx_holdout array\n",
    "        idx_holdout = np.concatenate((idx_holdout, 50 * label_type + r[num_train:]))\n",
    "\n",
    "    # divide data and labels into the train and holdout sets\n",
    "    Xt = X_lengths[idx_train]\n",
    "    yt = y[idx_train]\n",
    "    Xh = X_lengths[idx_holdout]\n",
    "    yh = y[idx_holdout]\n",
    "    ########################\n",
    "    # YOUR CODE BELOW\n",
    "    # Solve for the LS weights\n",
    "    w = get_weights(Xt, yt)\n",
    "\n",
    "    # Make predictions using the LS weights\n",
    "    y_hat_holdout_real = Xh@w\n",
    "\n",
    "    # Turn the real-valued predictions into class labels\n",
    "    def get_pred_label(x): #based on my 3a answer\n",
    "        if x <= -0.5:\n",
    "            return -1\n",
    "        elif x < 0.5:\n",
    "            return 0\n",
    "        else:\n",
    "            return 1\n",
    "        \n",
    "    y_hat_holdout_labels = np.array([get_pred_label(y_hat_holdout_real[i]) for i in range(0, yh.shape[0])])\n",
    "\n",
    "    # Compute the errors\n",
    "    errs[i] = np.where(y_hat_holdout_labels == yh, 0, 1).sum()\n",
    "\n",
    "test_errs = errs / 30\n",
    "\n",
    "print(f\"Average Test Error for only lengths for {N} iterations: {test_errs.mean()}\")"
   ]
  }
 ],
 "metadata": {
  "kernelspec": {
   "display_name": "Python 3 (ipykernel)",
   "language": "python",
   "name": "python3"
  },
  "language_info": {
   "codemirror_mode": {
    "name": "ipython",
    "version": 3
   },
   "file_extension": ".py",
   "mimetype": "text/x-python",
   "name": "python",
   "nbconvert_exporter": "python",
   "pygments_lexer": "ipython3",
   "version": "3.9.12"
  }
 },
 "nbformat": 4,
 "nbformat_minor": 2
}
