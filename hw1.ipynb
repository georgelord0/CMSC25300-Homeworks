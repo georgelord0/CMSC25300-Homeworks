{
 "cells": [
  {
   "cell_type": "code",
   "execution_count": 1,
   "metadata": {},
   "outputs": [],
   "source": [
    "import numpy as np"
   ]
  },
  {
   "cell_type": "markdown",
   "metadata": {},
   "source": [
    "Question 2e"
   ]
  },
  {
   "cell_type": "code",
   "execution_count": 22,
   "metadata": {},
   "outputs": [
    {
     "name": "stdout",
     "output_type": "stream",
     "text": [
      "[3950 3560 3900 3920]\n",
      "[8500 1465 1300]\n",
      "15330\n"
     ]
    }
   ],
   "source": [
    "import numpy as np\n",
    "\n",
    "#Matrix described in problem 2a\n",
    "month_countyprofit = np.array([[2350, 500, 200],\n",
    "                               [2000,405,250],\n",
    "                               [2000,350,400],\n",
    "                               [2150,210,450]])\n",
    "\n",
    "#Calculate total monthly profits in A-dollars from above matrix (problem 2b)\n",
    "to_A_dollars = np.array([1,2,3])\n",
    "def get_monthly_profits_in_A_dollars(mat: np.array):\n",
    "    return np.dot(mat, to_A_dollars)\n",
    "\n",
    "monthly_profits_in_A_dollars = get_monthly_profits_in_A_dollars(month_countyprofit)\n",
    "print(monthly_profits_in_A_dollars)\n",
    "\n",
    "\n",
    "\n",
    "#Calculate total profits over all months for each country (problem 2c)\n",
    "add_profits_vec = np.array([1,1,1,1])\n",
    "def get_total_profits_by_country(mat: np.array):\n",
    "    mat_trans = mat.transpose()\n",
    "    return np.dot(mat_trans, add_profits_vec)\n",
    "\n",
    "total_profits_for_each_county = get_total_profits_by_country(month_countyprofit)\n",
    "print(total_profits_for_each_county)\n",
    "\n",
    "\n",
    "\n",
    "#Calculate total profits (over all months) in A-dollars (problem 2d)\n",
    "def get_total_profits(vec: np.array):\n",
    "    return np.dot(vec, to_A_dollars)\n",
    "\n",
    "global_total_profit_in_A_dollars = get_total_profits(total_profits_for_each_county)\n",
    "print(global_total_profit_in_A_dollars)\n"
   ]
  },
  {
   "cell_type": "markdown",
   "metadata": {},
   "source": [
    "Question 3"
   ]
  },
  {
   "cell_type": "code",
   "execution_count": 51,
   "metadata": {},
   "outputs": [],
   "source": [
    "import random"
   ]
  },
  {
   "cell_type": "code",
   "execution_count": 55,
   "metadata": {},
   "outputs": [
    {
     "name": "stdout",
     "output_type": "stream",
     "text": [
      "\n",
      "Verifying Problem 3a:\n",
      "Expected:[1 5 9 9]\n",
      "Got:[1 5 9 9]\n",
      "\n",
      "Verifying Problem 3b:\n",
      "Expected:[8 0 1 1]\n",
      "Got:[8. 0. 1. 1.]\n",
      "Expected:[9 2 9 4]\n",
      "Got:[9. 2. 9. 4.]\n",
      "Expected:[1 5 9 9]\n",
      "Got:[1. 5. 9. 9.]\n",
      "Expected:[9 9 4 7]\n",
      "Got:[9. 9. 4. 7.]\n",
      "Expected:[6 9 8 9]\n",
      "Got:[6. 9. 8. 9.]\n",
      "\n",
      "Verifying Problem 3c:\n",
      "Expected:[ 22 -10 -15 -15]\n",
      "Got:[ 22 -10 -15 -15]\n",
      "\n",
      "Verifying Problem 3d:\n",
      "Expected:[-7  0  8 -5  2]\n",
      "Got:[-7  0  8 -5  2]\n",
      "\n",
      "Verifying Problem 3e:\n",
      "Expected:[8 9 1 9 6]\n",
      "Got:[8. 9. 1. 9. 6.]\n",
      "Expected:[0 2 5 9 9]\n",
      "Got:[0. 2. 5. 9. 9.]\n",
      "Expected:[1 9 9 4 8]\n",
      "Got:[1. 9. 9. 4. 8.]\n",
      "Expected:[1 4 9 7 9]\n",
      "Got:[1. 4. 9. 7. 9.]\n",
      "\n",
      "Verifying Problem 3f:\n",
      "Expected:[-2  2  7 31 27]\n",
      "Got:[-2.  2.  7. 31. 27.]\n"
     ]
    }
   ],
   "source": [
    "import random\n",
    "\n",
    "#Matrix given as A (should be X, they have a typo)\n",
    "mat_A = np.array([[8,0,1,1],\n",
    "                  [9,2,9,4],\n",
    "                  [1,5,9,9],\n",
    "                  [9,9,4,7],\n",
    "                  [6,9,8,9]])\n",
    "\n",
    "print(\"\\nVerifying Problem 3a:\")\n",
    "\n",
    "#Verify y for problem 3a\n",
    "vec_y = np.array([0,0,1,0,0])\n",
    "soln = np.dot(vec_y.transpose(), mat_A)\n",
    "print(f\"Expected:{mat_A[2]}\")\n",
    "print(f\"Got:{soln}\")\n",
    "\n",
    "\n",
    "\n",
    "print(\"\\nVerifying Problem 3b:\")\n",
    "\n",
    "#verify problem 3b\n",
    "for i in range (0, 5):\n",
    "    vec_y_k = np.identity(5)[i]\n",
    "    soln_k = np.dot(vec_y_k.transpose(), mat_A)\n",
    "    print(f\"Expected:{mat_A[i]}\")\n",
    "    print(f\"Got:{soln_k}\")\n",
    "\n",
    "\n",
    "\n",
    "print(\"\\nVerifying Problem 3c:\")\n",
    "\n",
    "#verify problem 3c\n",
    "vec_y = np.array([3,0,-2,0,0])\n",
    "soln = np.dot(vec_y.transpose(), mat_A)\n",
    "print(f\"Expected:{3*mat_A[0] + (-2)*mat_A[2]}\")\n",
    "print(f\"Got:{soln}\")\n",
    "\n",
    "\n",
    "\n",
    "print(\"\\nVerifying Problem 3d:\")\n",
    "\n",
    "#verify problem 3d\n",
    "vec_w = np.array([-1,0,1,0])\n",
    "soln = np.dot(mat_A, vec_w)\n",
    "print(f\"Expected:{mat_A[:,2] - mat_A[:,0]}\")\n",
    "print(f\"Got:{soln}\")\n",
    "\n",
    "\n",
    "\n",
    "print(\"\\nVerifying Problem 3e:\")\n",
    "\n",
    "#verift problem 3e\n",
    "for i in range (0, 4):\n",
    "    vec_w_k = np.identity(4)[i]\n",
    "    soln_k = np.dot(mat_A, vec_w_k)\n",
    "    print(f\"Expected:{mat_A[:,i]}\")\n",
    "    print(f\"Got:{soln_k}\")\n",
    "\n",
    "\n",
    "\n",
    "print(\"\\nVerifying Problem 3f:\")\n",
    "\n",
    "#verify problem 3f\n",
    "def get_vec_w(a, k, b, j):\n",
    "    #Assuming k and j are given w/index starting 1st (i.e. k=1 means first row)\n",
    "    return a*np.identity(4)[k-1] + b*np.identity(4)[j-1]\n",
    "\n",
    "#trying some random combos\n",
    "a = random.randint(1, 5)\n",
    "b = random.randint(-5, -1)\n",
    "k = 2\n",
    "j = 4\n",
    "vec_w = get_vec_w(a, k, b, j) #example case k-2, j=4 w/ random numbers\n",
    "soln = np.dot(mat_A, vec_w)\n",
    "print(f\"Expected:{a*mat_A[:,k-1] + b*mat_A[:,j-1]}\")\n",
    "print(f\"Got:{soln}\")"
   ]
  },
  {
   "cell_type": "markdown",
   "metadata": {},
   "source": [
    "Question 6"
   ]
  },
  {
   "cell_type": "code",
   "execution_count": 17,
   "metadata": {},
   "outputs": [
    {
     "data": {
      "image/png": "[encoded data removed]",
      "text/plain": [
       "<Figure size 432x288 with 1 Axes>"
      ]
     },
     "metadata": {
      "needs_background": "light"
     },
     "output_type": "display_data"
    }
   ],
   "source": [
    "import numpy as np\n",
    "import scipy.io as sio\n",
    "import matplotlib.pyplot as plt\n",
    "# n = number of points\n",
    "# z = points where polynomial is evaluated\n",
    "# p = array to store the values of the interpolated polynomials\n",
    "n = 100\n",
    "z = np.linspace( -1 , 1 , n )\n",
    "d = 3 # degree\n",
    "w = np.random.rand( d )\n",
    "X = np.zeros(( n , d ))\n",
    "\n",
    "# TODO : generate X - matrix\n",
    "for r in range(0, n):\n",
    "    for c in range(0, d):\n",
    "        X[r,c] = pow(z[r], c)\n",
    "\n",
    "# TODO : evaluate polynomial at all points z\n",
    "# and store the result in p\n",
    "p = np.dot(X, w)\n",
    "# do NOT use a loop for this\n",
    "# plot the datapoints and the best - fit polynomials\n",
    "plt.plot(z , p , linewidth =2)\n",
    "plt.xlabel(\"z\")\n",
    "plt.ylabel(\"y\")\n",
    "plt.title(\"polynomial with coefficients w = % s \" % w )\n",
    "plt.show()"
   ]
  }
 ],
 "metadata": {
  "kernelspec": {
   "display_name": "Python 3 (ipykernel)",
   "language": "python",
   "name": "python3"
  },
  "language_info": {
   "codemirror_mode": {
    "name": "ipython",
    "version": 3
   },
   "file_extension": ".py",
   "mimetype": "text/x-python",
   "name": "python",
   "nbconvert_exporter": "python",
   "pygments_lexer": "ipython3",
   "version": "3.9.12"
  }
 },
 "nbformat": 4,
 "nbformat_minor": 2
}
