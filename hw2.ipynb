{
 "cells": [
  {
   "cell_type": "code",
   "execution_count": 1,
   "metadata": {},
   "outputs": [
    {
     "name": "stderr",
     "output_type": "stream",
     "text": [
      "C:\\Users\\basic\\anaconda3\\lib\\site-packages\\pandas\\core\\computation\\expressions.py:21: UserWarning: Pandas requires version '2.8.4' or newer of 'numexpr' (version '2.8.1' currently installed).\n",
      "  from pandas.core.computation.check import NUMEXPR_INSTALLED\n",
      "C:\\Users\\basic\\anaconda3\\lib\\site-packages\\pandas\\core\\arrays\\masked.py:60: UserWarning: Pandas requires version '1.3.6' or newer of 'bottleneck' (version '1.3.4' currently installed).\n",
      "  from pandas.core import (\n"
     ]
    }
   ],
   "source": [
    "import numpy as np\n",
    "import pandas as pd"
   ]
  },
  {
   "cell_type": "markdown",
   "metadata": {},
   "source": [
    "Question 4a:"
   ]
  },
  {
   "cell_type": "code",
   "execution_count": 49,
   "metadata": {},
   "outputs": [
    {
     "name": "stdout",
     "output_type": "stream",
     "text": [
      "Part 4 a: Found weights:\n",
      " [[ 0.94366942]\n",
      " [ 0.21373778]\n",
      " [ 0.26641775]\n",
      " [-0.39221373]\n",
      " [-0.00538552]\n",
      " [-0.01764687]\n",
      " [-0.16632809]\n",
      " [-0.0822838 ]\n",
      " [-0.16644364]]\n"
     ]
    }
   ],
   "source": [
    "face_data_dict = np.load(\"face_emotion_data.npz\")\n",
    "face_features = face_data_dict[\"X\"]\n",
    "face_labels = face_data_dict[\"y\"]\n",
    "n,p = face_features.shape\n",
    "\n",
    "# Solve the least - squares solution . weights is the array of weight coefficients\n",
    "# TODO : find weights\n",
    "\n",
    "X = face_features\n",
    "def get_weights(X, face_labels):\n",
    "    XtX_inv = np.linalg.inv(np.matmul(X.T, X)) # (X^T X)^-1\n",
    "    XtX_inv_Xt = np.matmul(XtX_inv, X.T) # (X^T X)^-1 X^T\n",
    "    weights = np.dot(XtX_inv_Xt, face_labels) # (X^T X)^-1 X^T y\n",
    "    return weights\n",
    "\n",
    "weights = get_weights(X, face_labels)\n",
    "\n",
    "print(f\"Part 4 a: Found weights:\\n {weights}\")"
   ]
  },
  {
   "cell_type": "markdown",
   "metadata": {},
   "source": [
    "Question 4c:"
   ]
  },
  {
   "cell_type": "code",
   "execution_count": 51,
   "metadata": {},
   "outputs": [
    {
     "name": "stdout",
     "output_type": "stream",
     "text": [
      "Error estimate: 9.375%\n"
     ]
    }
   ],
   "source": [
    "def get_prediction(X, w):\n",
    "    y_raw = np.dot(X, w)\n",
    "    y = np.where(y_raw >=0, 1, -1)\n",
    "    return y\n",
    "\n",
    "def lstsq_cv_err(features: np.ndarray, labels:np.ndarray, subset_count: int=8) -> float:\n",
    "    \"\"\" Estimate the error of a least - squares classifier\n",
    "    using cross - validation . Use subset_count different\n",
    "    train / test splits with each subset acting as the\n",
    "    holdout set once .\n",
    "    Parameters :\n",
    "    features ( np . ndarray ) : dataset features as a 2 D\n",
    "    array with shape ( sample_count , feature_count )\n",
    "    labels ( np . ndarray ) : dataset class labels (+1/ -1)\n",
    "    as a 1 D array with length ( sample_count )\n",
    "    subset_count ( int ) : number of subsets to divide the\n",
    "    dataset into\n",
    "    Note : assumes that subset_count divides the\n",
    "    dataset evenly\n",
    "    Returns :\n",
    "    cls_err ( float ) : estimated classification error\n",
    "    rate of least - squares method\n",
    "    \"\"\"\n",
    "\n",
    "    sample_count, feature_count = features.shape\n",
    "    subset_size = sample_count // subset_count\n",
    "    # Reshape arrays for easier subset - level manipulation\n",
    "    features = features.reshape(subset_count, subset_size, feature_count)\n",
    "    labels = labels.reshape(subset_count, subset_size)\n",
    "\n",
    "    subset_idcs = np.arange(subset_count)\n",
    "    train_set_size = (subset_count - 1)*subset_size\n",
    "    subset_err_counts = np.zeros(subset_count)\n",
    "\n",
    "    for i in range(subset_count):\n",
    "        # TODO : select relevant datasets\n",
    "        # fit and evaluate a linear model ,\n",
    "        # then store errors in subset_err_counts[i]\n",
    "        X_training = np.delete(features, i, 0).reshape(train_set_size, feature_count)\n",
    "        labels_training = np.delete(labels, i, 0).reshape(train_set_size)\n",
    "        weights = get_weights(X_training, labels_training)\n",
    "\n",
    "        pred = get_prediction(features[i], weights)\n",
    "        diff = abs(np.subtract(labels[i], pred)).sum()\n",
    "\n",
    "        subset_err_counts[i] = diff\n",
    "        pass\n",
    "\n",
    "    # Average over the entire dataset to find the classification error\n",
    "    cls_err = np.sum(subset_err_counts) / (subset_count*subset_size)\n",
    "    return cls_err\n",
    "\n",
    "# Run on the dataset with all features included\n",
    "full_feat_cv_err = lstsq_cv_err(face_features, face_labels)\n",
    "print(f\"Error estimate: {full_feat_cv_err*100:.3f}%\")\n"
   ]
  },
  {
   "cell_type": "markdown",
   "metadata": {},
   "source": [
    "Question 6e"
   ]
  },
  {
   "cell_type": "code",
   "execution_count": 107,
   "metadata": {},
   "outputs": [],
   "source": [
    "import itertools\n"
   ]
  },
  {
   "cell_type": "code",
   "execution_count": 118,
   "metadata": {},
   "outputs": [
    {
     "name": "stdout",
     "output_type": "stream",
     "text": [
      "Trying 4d strategy:\n",
      "\n",
      "Removing Features: [4] --> Error estimate: 9.375%\n",
      "Removing Features: [4, 5] --> Error estimate: 9.375%\n",
      "Removing Features: [4, 5, 7] --> Error estimate: 9.375%\n",
      "Removing Features: [4, 5, 7, 6] --> Error estimate: 10.938%\n",
      "Removing Features: [4, 5, 7, 6, 8] --> Error estimate: 14.062%\n",
      "Removing Features: [4, 5, 7, 6, 8, 1] --> Error estimate: 15.625%\n",
      "Removing Features: [4, 5, 7, 6, 8, 1, 2] --> Error estimate: 17.188%\n",
      "Removing Features: [4, 5, 7, 6, 8, 1, 2, 3] --> Error estimate: 14.062%\n",
      "Removing Features: [4, 5, 7, 6, 8, 1, 2, 3, 0] --> Error estimate: 92.188%\n",
      "\n",
      "Brute-Force:\n",
      "\n",
      "Found best combo: Remove features (7, 1) to get 6.250%\n"
     ]
    }
   ],
   "source": [
    "def test_removing_features(features: np.ndarray, labels:np.ndarray, removeme, quiet=False):\n",
    "    feats = np.delete(features, removeme, 1)\n",
    "    full_feat_cv_err = lstsq_cv_err(feats, labels)\n",
    "    if not quiet:\n",
    "        print(f\"Removing Features: {removeme} --> Error estimate: {full_feat_cv_err*100:.3f}%\")\n",
    "    return full_feat_cv_err*100\n",
    "\n",
    "#Go through least impactful features in original 9-feat model and remove them until we beat 6%\n",
    "desired_acc = 6\n",
    "orig_weights_sorted = np.argsort(abs(get_weights(face_features, face_labels).reshape(p)).tolist())\n",
    "best_error = lstsq_cv_err(face_features, face_labels)*100\n",
    "\n",
    "test_num = 0\n",
    "feats_to_remove = []\n",
    "\n",
    "print(\"Trying 4d strategy:\\n\")\n",
    "\n",
    "while (best_error > desired_acc) and (test_num < p):\n",
    "    feats_to_remove.append(orig_weights_sorted[test_num])\n",
    "    test_num+=1\n",
    "    test_error = test_removing_features(face_features, face_labels, feats_to_remove)\n",
    "    if (test_error < best_error):\n",
    "        best_error = test_removing_features(face_features, face_labels, feats_to_remove)\n",
    "\n",
    "#Screw it, brute-force time:\n",
    "print(\"\\nBrute-Force:\\n\")\n",
    "best_combo = []\n",
    "for i in range(0, p):\n",
    "    for combo in list(itertools.combinations(orig_weights_sorted, i)):\n",
    "        test_error = test_removing_features(face_features, face_labels, list(combo), True)\n",
    "        if (test_error < best_error):\n",
    "            best_combo = combo\n",
    "            best_error = test_error\n",
    "\n",
    "print(f\"Found best combo: Remove features {best_combo} to get {best_error:.3f}%\")\n",
    "        "
   ]
  }
 ],
 "metadata": {
  "kernelspec": {
   "display_name": "Python 3 (ipykernel)",
   "language": "python",
   "name": "python3"
  },
  "language_info": {
   "codemirror_mode": {
    "name": "ipython",
    "version": 3
   },
   "file_extension": ".py",
   "mimetype": "text/x-python",
   "name": "python",
   "nbconvert_exporter": "python",
   "pygments_lexer": "ipython3",
   "version": "3.9.12"
  }
 },
 "nbformat": 4,
 "nbformat_minor": 2
}
