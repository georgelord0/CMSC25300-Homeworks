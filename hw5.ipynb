{
 "cells": [
  {
   "cell_type": "code",
   "execution_count": 2,
   "metadata": {},
   "outputs": [],
   "source": [
    "import numpy as np\n",
    "import numpy.linalg as la"
   ]
  },
  {
   "cell_type": "markdown",
   "metadata": {},
   "source": [
    "# Q2b,c,"
   ]
  },
  {
   "cell_type": "code",
   "execution_count": 31,
   "metadata": {},
   "outputs": [
    {
     "name": "stdout",
     "output_type": "stream",
     "text": [
      "PageRank for 4 pages in Q2b is [0.47140452 0.47140452 0.23570226 0.70710678]\n"
     ]
    }
   ],
   "source": [
    "A = np.array([[0, 0, 0, 1],\n",
    "             [1, 0, 0, 0],\n",
    "             [0, 0.5, 0, 0],\n",
    "             [0, 0.5, 1, 0]])\n",
    "\n",
    "def get_PageRank(A, guess, epsilon = 0.01):\n",
    "    last_pi = guess / la.norm(guess)\n",
    "    while True:\n",
    "        next_pi = A@last_pi\n",
    "        next_pi = next_pi / la.norm(next_pi)\n",
    "        if (la.norm(next_pi - last_pi)) > epsilon:\n",
    "            return next_pi\n",
    "        last_pi = next_pi\n",
    "\n",
    "\n",
    "pi = get_PageRank(A, np.array([1, 1, 1, 1]), 0.0001)\n",
    "print(f\"PageRank for 4 pages in Q2b is {pi}\")\n",
    "\n",
    "def get_GooglePageRank(A, a):\n",
    "    n,_ = A.shape\n",
    "    u = np.ones(n)\n",
    "    G = a*A + (1-a)*(1/n)*(u@u.T)\n",
    "    G = G/G.sum(axis=0)\n",
    "\n",
    "    return get_PageRank(G, u)\n",
    "\n",
    "G_pi = \n"
   ]
  },
  {
   "cell_type": "code",
   "execution_count": 34,
   "metadata": {},
   "outputs": [
    {
     "data": {
      "text/plain": [
       "array([0.49236596, 0.49236596, 0.36927447, 0.61545745])"
      ]
     },
     "execution_count": 34,
     "metadata": {},
     "output_type": "execute_result"
    }
   ],
   "source": [
    "get_GooglePageRank(A, 0.8)"
   ]
  }
 ],
 "metadata": {
  "kernelspec": {
   "display_name": "Python 3 (ipykernel)",
   "language": "python",
   "name": "python3"
  },
  "language_info": {
   "codemirror_mode": {
    "name": "ipython",
    "version": 3
   },
   "file_extension": ".py",
   "mimetype": "text/x-python",
   "name": "python",
   "nbconvert_exporter": "python",
   "pygments_lexer": "ipython3",
   "version": "3.9.12"
  }
 },
 "nbformat": 4,
 "nbformat_minor": 2
}
